{
 "cells": [
  {
   "cell_type": "markdown",
   "id": "0fc90f45",
   "metadata": {},
   "source": [
    "Scraping all the necessary data from espncricinfo website"
   ]
  },
  {
   "cell_type": "code",
   "execution_count": 1,
   "id": "14e85ec9",
   "metadata": {},
   "outputs": [],
   "source": [
    "from bs4 import BeautifulSoup as bs\n",
    "import requests\n",
    "import pandas as pd"
   ]
  },
  {
   "cell_type": "code",
   "execution_count": 2,
   "id": "c4f18629",
   "metadata": {},
   "outputs": [
    {
     "data": {
      "text/plain": [
       "<Response [200]>"
      ]
     },
     "execution_count": 2,
     "metadata": {},
     "output_type": "execute_result"
    }
   ],
   "source": [
    "URL = r\"https://stats.espncricinfo.com/ci/engine/records/team/match_results.html?id=12357;type=tournament\"\n",
    "page = requests.get(URL)\n",
    "page"
   ]
  },
  {
   "cell_type": "code",
   "execution_count": 3,
   "id": "e9677fe0",
   "metadata": {},
   "outputs": [],
   "source": [
    "page_content = page.content\n",
    "soup = bs(page_content,\"html.parser\")"
   ]
  },
  {
   "cell_type": "code",
   "execution_count": 4,
   "id": "a5e1d3d8",
   "metadata": {},
   "outputs": [
    {
     "name": "stdout",
     "output_type": "stream",
     "text": [
      "[['England', 'South Africa', 'England', '104 runs', 'The Oval', 'May 30, 2019', 'ODI # 4143'], ['Pakistan', 'West Indies', 'West Indies', '7 wickets', 'Nottingham', 'May 31, 2019', 'ODI # 4144'], ['New Zealand', 'Sri Lanka', 'New Zealand', '10 wickets', 'Cardiff', 'Jun 1, 2019', 'ODI # 4145'], ['Afghanistan', 'Australia', 'Australia', '7 wickets', 'Bristol', 'Jun 1, 2019', 'ODI # 4146'], ['Bangladesh', 'South Africa', 'Bangladesh', '21 runs', 'The Oval', 'Jun 2, 2019', 'ODI # 4147'], ['England', 'Pakistan', 'Pakistan', '14 runs', 'Nottingham', 'Jun 3, 2019', 'ODI # 4148'], ['Afghanistan', 'Sri Lanka', 'Sri Lanka', '34 runs', 'Cardiff', 'Jun 4, 2019', 'ODI # 4149'], ['India', 'South Africa', 'India', '6 wickets', 'Southampton', 'Jun 5, 2019', 'ODI # 4150'], ['Bangladesh', 'New Zealand', 'New Zealand', '2 wickets', 'The Oval', 'Jun 5, 2019', 'ODI # 4151'], ['Australia', 'West Indies', 'Australia', '15 runs', 'Nottingham', 'Jun 6, 2019', 'ODI # 4152'], ['England', 'Bangladesh', 'England', '106 runs', 'Cardiff', 'Jun 8, 2019', 'ODI # 4153'], ['Afghanistan', 'New Zealand', 'New Zealand', '7 wickets', 'Taunton', 'Jun 8, 2019', 'ODI # 4154'], ['Australia', 'India', 'India', '36 runs', 'The Oval', 'Jun 9, 2019', 'ODI # 4155'], ['South Africa', 'West Indies', 'no result', '-', 'Southampton', 'Jun 10, 2019', 'ODI # 4156'], ['Australia', 'Pakistan', 'Australia', '41 runs', 'Taunton', 'Jun 12, 2019', 'ODI # 4157'], ['England', 'West Indies', 'England', '8 wickets', 'Southampton', 'Jun 14, 2019', 'ODI # 4158'], ['Australia', 'Sri Lanka', 'Australia', '87 runs', 'The Oval', 'Jun 15, 2019', 'ODI # 4159'], ['Afghanistan', 'South Africa', 'South Africa', '9 wickets', 'Cardiff', 'Jun 15, 2019', 'ODI # 4160'], ['India', 'Pakistan', 'India', '89 runs', 'Manchester', 'Jun 16, 2019', 'ODI # 4161'], ['Bangladesh', 'West Indies', 'Bangladesh', '7 wickets', 'Taunton', 'Jun 17, 2019', 'ODI # 4162'], ['England', 'Afghanistan', 'England', '150 runs', 'Manchester', 'Jun 18, 2019', 'ODI # 4163'], ['New Zealand', 'South Africa', 'New Zealand', '4 wickets', 'Birmingham', 'Jun 19, 2019', 'ODI # 4165'], ['Australia', 'Bangladesh', 'Australia', '48 runs', 'Nottingham', 'Jun 20, 2019', 'ODI # 4166'], ['England', 'Sri Lanka', 'Sri Lanka', '20 runs', 'Leeds', 'Jun 21, 2019', 'ODI # 4168'], ['Afghanistan', 'India', 'India', '11 runs', 'Southampton', 'Jun 22, 2019', 'ODI # 4169'], ['New Zealand', 'West Indies', 'New Zealand', '5 runs', 'Manchester', 'Jun 22, 2019', 'ODI # 4170'], ['Pakistan', 'South Africa', 'Pakistan', '49 runs', \"Lord's\", 'Jun 23, 2019', 'ODI # 4171'], ['Afghanistan', 'Bangladesh', 'Bangladesh', '62 runs', 'Southampton', 'Jun 24, 2019', 'ODI # 4172'], ['England', 'Australia', 'Australia', '64 runs', \"Lord's\", 'Jun 25, 2019', 'ODI # 4173'], ['New Zealand', 'Pakistan', 'Pakistan', '6 wickets', 'Birmingham', 'Jun 26, 2019', 'ODI # 4174'], ['India', 'West Indies', 'India', '125 runs', 'Manchester', 'Jun 27, 2019', 'ODI # 4175'], ['South Africa', 'Sri Lanka', 'South Africa', '9 wickets', 'Chester-le-Street', 'Jun 28, 2019', 'ODI # 4176'], ['Afghanistan', 'Pakistan', 'Pakistan', '3 wickets', 'Leeds', 'Jun 29, 2019', 'ODI # 4177'], ['Australia', 'New Zealand', 'Australia', '86 runs', \"Lord's\", 'Jun 29, 2019', 'ODI # 4178'], ['England', 'India', 'England', '31 runs', 'Birmingham', 'Jun 30, 2019', 'ODI # 4179'], ['Sri Lanka', 'West Indies', 'Sri Lanka', '23 runs', 'Chester-le-Street', 'Jul 1, 2019', 'ODI # 4180'], ['Bangladesh', 'India', 'India', '28 runs', 'Birmingham', 'Jul 2, 2019', 'ODI # 4182'], ['England', 'New Zealand', 'England', '119 runs', 'Chester-le-Street', 'Jul 3, 2019', 'ODI # 4183'], ['Afghanistan', 'West Indies', 'West Indies', '23 runs', 'Leeds', 'Jul 4, 2019', 'ODI # 4184'], ['Bangladesh', 'Pakistan', 'Pakistan', '94 runs', \"Lord's\", 'Jul 5, 2019', 'ODI # 4186'], ['India', 'Sri Lanka', 'India', '7 wickets', 'Leeds', 'Jul 6, 2019', 'ODI # 4187'], ['Australia', 'South Africa', 'South Africa', '10 runs', 'Manchester', 'Jul 6, 2019', 'ODI # 4188'], ['India', 'New Zealand', 'New Zealand', '18 runs', 'Manchester', 'Jul 9-10, 2019', 'ODI # 4190'], ['England', 'Australia', 'England', '8 wickets', 'Birmingham', 'Jul 11, 2019', 'ODI # 4191'], ['England', 'New Zealand', 'tied', '-', \"Lord's\", 'Jul 14, 2019', 'ODI # 4192']]\n"
     ]
    }
   ],
   "source": [
    "table = soup.find(\"table\", attrs={\"class\": \"ds-w-full\"})\n",
    "table_data = table.tbody.find_all(\"tr\")  # contains 2 rows\n",
    "\n",
    "# Get all the headings of Lists\n",
    "arr=[]\n",
    "\n",
    "for i in range (45):\n",
    "    headings = []\n",
    "    for td in table_data[i].find_all(\"td\"):\n",
    "    # remove any newlines and extra spaces from left and right\n",
    "        headings.append(td.text.replace('\\n', ' ').strip())\n",
    "        \n",
    "        \n",
    "    arr.append(headings)\n",
    "print(arr)"
   ]
  },
  {
   "cell_type": "code",
   "execution_count": 6,
   "id": "e08511a9",
   "metadata": {},
   "outputs": [
    {
     "data": {
      "text/html": [
       "<div>\n",
       "<style scoped>\n",
       "    .dataframe tbody tr th:only-of-type {\n",
       "        vertical-align: middle;\n",
       "    }\n",
       "\n",
       "    .dataframe tbody tr th {\n",
       "        vertical-align: top;\n",
       "    }\n",
       "\n",
       "    .dataframe thead th {\n",
       "        text-align: right;\n",
       "    }\n",
       "</style>\n",
       "<table border=\"1\" class=\"dataframe\">\n",
       "  <thead>\n",
       "    <tr style=\"text-align: right;\">\n",
       "      <th></th>\n",
       "      <th>Team1</th>\n",
       "      <th>Team2</th>\n",
       "      <th>Winner</th>\n",
       "      <th>Margin</th>\n",
       "      <th>Ground</th>\n",
       "      <th>Date</th>\n",
       "      <th>ScoreID</th>\n",
       "    </tr>\n",
       "  </thead>\n",
       "  <tbody>\n",
       "    <tr>\n",
       "      <th>0</th>\n",
       "      <td>England</td>\n",
       "      <td>South Africa</td>\n",
       "      <td>England</td>\n",
       "      <td>104 runs</td>\n",
       "      <td>The Oval</td>\n",
       "      <td>May 30, 2019</td>\n",
       "      <td>ODI # 4143</td>\n",
       "    </tr>\n",
       "    <tr>\n",
       "      <th>1</th>\n",
       "      <td>Pakistan</td>\n",
       "      <td>West Indies</td>\n",
       "      <td>West Indies</td>\n",
       "      <td>7 wickets</td>\n",
       "      <td>Nottingham</td>\n",
       "      <td>May 31, 2019</td>\n",
       "      <td>ODI # 4144</td>\n",
       "    </tr>\n",
       "    <tr>\n",
       "      <th>2</th>\n",
       "      <td>New Zealand</td>\n",
       "      <td>Sri Lanka</td>\n",
       "      <td>New Zealand</td>\n",
       "      <td>10 wickets</td>\n",
       "      <td>Cardiff</td>\n",
       "      <td>Jun 1, 2019</td>\n",
       "      <td>ODI # 4145</td>\n",
       "    </tr>\n",
       "    <tr>\n",
       "      <th>3</th>\n",
       "      <td>Afghanistan</td>\n",
       "      <td>Australia</td>\n",
       "      <td>Australia</td>\n",
       "      <td>7 wickets</td>\n",
       "      <td>Bristol</td>\n",
       "      <td>Jun 1, 2019</td>\n",
       "      <td>ODI # 4146</td>\n",
       "    </tr>\n",
       "    <tr>\n",
       "      <th>4</th>\n",
       "      <td>Bangladesh</td>\n",
       "      <td>South Africa</td>\n",
       "      <td>Bangladesh</td>\n",
       "      <td>21 runs</td>\n",
       "      <td>The Oval</td>\n",
       "      <td>Jun 2, 2019</td>\n",
       "      <td>ODI # 4147</td>\n",
       "    </tr>\n",
       "  </tbody>\n",
       "</table>\n",
       "</div>"
      ],
      "text/plain": [
       "         Team1         Team2       Winner      Margin      Ground  \\\n",
       "0      England  South Africa      England    104 runs    The Oval   \n",
       "1     Pakistan   West Indies  West Indies   7 wickets  Nottingham   \n",
       "2  New Zealand     Sri Lanka  New Zealand  10 wickets     Cardiff   \n",
       "3  Afghanistan     Australia    Australia   7 wickets     Bristol   \n",
       "4   Bangladesh  South Africa   Bangladesh     21 runs    The Oval   \n",
       "\n",
       "           Date     ScoreID  \n",
       "0  May 30, 2019  ODI # 4143  \n",
       "1  May 31, 2019  ODI # 4144  \n",
       "2   Jun 1, 2019  ODI # 4145  \n",
       "3   Jun 1, 2019  ODI # 4146  \n",
       "4   Jun 2, 2019  ODI # 4147  "
      ]
     },
     "execution_count": 6,
     "metadata": {},
     "output_type": "execute_result"
    }
   ],
   "source": [
    "df = pd.DataFrame(arr, columns =['Team1', 'Team2', 'Winner','Margin','Ground','Date','ScoreID']) \n",
    "df.head()"
   ]
  },
  {
   "cell_type": "markdown",
   "id": "d1def269",
   "metadata": {},
   "source": [
    "got all the match results "
   ]
  },
  {
   "cell_type": "code",
   "execution_count": 17,
   "id": "4a07cfb1",
   "metadata": {},
   "outputs": [],
   "source": [
    "df.to_csv(\"odi_df.csv\", index = False)\n",
    "#Saved the DATAFrame in csv Format"
   ]
  },
  {
   "cell_type": "markdown",
   "id": "56bccb5d",
   "metadata": {},
   "source": [
    "Now Scraping Batting and Bowling stats from the ODI 2019 World Cup"
   ]
  },
  {
   "cell_type": "code",
   "execution_count": 7,
   "id": "9988a1fd",
   "metadata": {},
   "outputs": [
    {
     "data": {
      "text/plain": [
       "[<a class=\"ds-inline-flex ds-items-start ds-leading-none\" href=\"/team/england-1\"><span class=\"ds-text-tight-s ds-font-regular ds-text-typo-primary hover:ds-text-typo-primary-hover ds-block\">England</span></a>,\n",
       " <a class=\"ds-inline-flex ds-items-start ds-leading-none\" href=\"/team/south-africa-3\"><span class=\"ds-text-tight-s ds-font-regular ds-text-typo-primary hover:ds-text-typo-primary-hover ds-block\">South Africa</span></a>,\n",
       " <a class=\"ds-inline-flex ds-items-start ds-leading-none\" href=\"/ci/content/ground/57127.html\"><span class=\"ds-text-tight-s ds-font-regular ds-text-typo-primary hover:ds-text-typo-primary-hover ds-block\">The Oval</span></a>,\n",
       " <a class=\"ds-inline-flex ds-items-start ds-leading-none\" href=\"/series/icc-cricket-world-cup-2019-1144415/england-vs-south-africa-1st-match-1144483/full-scorecard\"><span class=\"ds-text-tight-s ds-font-regular ds-text-typo-primary hover:ds-text-typo-primary-hover ds-block\">ODI # 4143</span></a>,\n",
       " <a class=\"ds-inline-flex ds-items-start ds-leading-none\" href=\"/team/pakistan-7\"><span class=\"ds-text-tight-s ds-font-regular ds-text-typo-primary hover:ds-text-typo-primary-hover ds-block\">Pakistan</span></a>,\n",
       " <a class=\"ds-inline-flex ds-items-start ds-leading-none\" href=\"/team/west-indies-4\"><span class=\"ds-text-tight-s ds-font-regular ds-text-typo-primary hover:ds-text-typo-primary-hover ds-block\">West Indies</span></a>,\n",
       " <a class=\"ds-inline-flex ds-items-start ds-leading-none\" href=\"/ci/content/ground/57219.html\"><span class=\"ds-text-tight-s ds-font-regular ds-text-typo-primary hover:ds-text-typo-primary-hover ds-block\">Nottingham</span></a>,\n",
       " <a class=\"ds-inline-flex ds-items-start ds-leading-none\" href=\"/series/icc-cricket-world-cup-2019-1144415/pakistan-vs-west-indies-2nd-match-1144484/full-scorecard\"><span class=\"ds-text-tight-s ds-font-regular ds-text-typo-primary hover:ds-text-typo-primary-hover ds-block\">ODI # 4144</span></a>,\n",
       " <a class=\"ds-inline-flex ds-items-start ds-leading-none\" href=\"/team/new-zealand-5\"><span class=\"ds-text-tight-s ds-font-regular ds-text-typo-primary hover:ds-text-typo-primary-hover ds-block\">New Zealand</span></a>,\n",
       " <a class=\"ds-inline-flex ds-items-start ds-leading-none\" href=\"/team/sri-lanka-8\"><span class=\"ds-text-tight-s ds-font-regular ds-text-typo-primary hover:ds-text-typo-primary-hover ds-block\">Sri Lanka</span></a>,\n",
       " <a class=\"ds-inline-flex ds-items-start ds-leading-none\" href=\"/ci/content/ground/56874.html\"><span class=\"ds-text-tight-s ds-font-regular ds-text-typo-primary hover:ds-text-typo-primary-hover ds-block\">Cardiff</span></a>,\n",
       " <a class=\"ds-inline-flex ds-items-start ds-leading-none\" href=\"/series/icc-cricket-world-cup-2019-1144415/new-zealand-vs-sri-lanka-3rd-match-1144485/full-scorecard\"><span class=\"ds-text-tight-s ds-font-regular ds-text-typo-primary hover:ds-text-typo-primary-hover ds-block\">ODI # 4145</span></a>,\n",
       " <a class=\"ds-inline-flex ds-items-start ds-leading-none\" href=\"/team/afghanistan-40\"><span class=\"ds-text-tight-s ds-font-regular ds-text-typo-primary hover:ds-text-typo-primary-hover ds-block\">Afghanistan</span></a>,\n",
       " <a class=\"ds-inline-flex ds-items-start ds-leading-none\" href=\"/team/australia-2\"><span class=\"ds-text-tight-s ds-font-regular ds-text-typo-primary hover:ds-text-typo-primary-hover ds-block\">Australia</span></a>,\n",
       " <a class=\"ds-inline-flex ds-items-start ds-leading-none\" href=\"/ci/content/ground/56831.html\"><span class=\"ds-text-tight-s ds-font-regular ds-text-typo-primary hover:ds-text-typo-primary-hover ds-block\">Bristol</span></a>,\n",
       " <a class=\"ds-inline-flex ds-items-start ds-leading-none\" href=\"/series/icc-cricket-world-cup-2019-1144415/afghanistan-vs-australia-4th-match-1144486/full-scorecard\"><span class=\"ds-text-tight-s ds-font-regular ds-text-typo-primary hover:ds-text-typo-primary-hover ds-block\">ODI # 4146</span></a>,\n",
       " <a class=\"ds-inline-flex ds-items-start ds-leading-none\" href=\"/team/bangladesh-25\"><span class=\"ds-text-tight-s ds-font-regular ds-text-typo-primary hover:ds-text-typo-primary-hover ds-block\">Bangladesh</span></a>,\n",
       " <a class=\"ds-inline-flex ds-items-start ds-leading-none\" href=\"/team/south-africa-3\"><span class=\"ds-text-tight-s ds-font-regular ds-text-typo-primary hover:ds-text-typo-primary-hover ds-block\">South Africa</span></a>,\n",
       " <a class=\"ds-inline-flex ds-items-start ds-leading-none\" href=\"/ci/content/ground/57127.html\"><span class=\"ds-text-tight-s ds-font-regular ds-text-typo-primary hover:ds-text-typo-primary-hover ds-block\">The Oval</span></a>,\n",
       " <a class=\"ds-inline-flex ds-items-start ds-leading-none\" href=\"/series/icc-cricket-world-cup-2019-1144415/bangladesh-vs-south-africa-5th-match-1144487/full-scorecard\"><span class=\"ds-text-tight-s ds-font-regular ds-text-typo-primary hover:ds-text-typo-primary-hover ds-block\">ODI # 4147</span></a>,\n",
       " <a class=\"ds-inline-flex ds-items-start ds-leading-none\" href=\"/team/england-1\"><span class=\"ds-text-tight-s ds-font-regular ds-text-typo-primary hover:ds-text-typo-primary-hover ds-block\">England</span></a>,\n",
       " <a class=\"ds-inline-flex ds-items-start ds-leading-none\" href=\"/team/pakistan-7\"><span class=\"ds-text-tight-s ds-font-regular ds-text-typo-primary hover:ds-text-typo-primary-hover ds-block\">Pakistan</span></a>,\n",
       " <a class=\"ds-inline-flex ds-items-start ds-leading-none\" href=\"/ci/content/ground/57219.html\"><span class=\"ds-text-tight-s ds-font-regular ds-text-typo-primary hover:ds-text-typo-primary-hover ds-block\">Nottingham</span></a>,\n",
       " <a class=\"ds-inline-flex ds-items-start ds-leading-none\" href=\"/series/icc-cricket-world-cup-2019-1144415/england-vs-pakistan-6th-match-1144488/full-scorecard\"><span class=\"ds-text-tight-s ds-font-regular ds-text-typo-primary hover:ds-text-typo-primary-hover ds-block\">ODI # 4148</span></a>,\n",
       " <a class=\"ds-inline-flex ds-items-start ds-leading-none\" href=\"/team/afghanistan-40\"><span class=\"ds-text-tight-s ds-font-regular ds-text-typo-primary hover:ds-text-typo-primary-hover ds-block\">Afghanistan</span></a>,\n",
       " <a class=\"ds-inline-flex ds-items-start ds-leading-none\" href=\"/team/sri-lanka-8\"><span class=\"ds-text-tight-s ds-font-regular ds-text-typo-primary hover:ds-text-typo-primary-hover ds-block\">Sri Lanka</span></a>,\n",
       " <a class=\"ds-inline-flex ds-items-start ds-leading-none\" href=\"/ci/content/ground/56874.html\"><span class=\"ds-text-tight-s ds-font-regular ds-text-typo-primary hover:ds-text-typo-primary-hover ds-block\">Cardiff</span></a>,\n",
       " <a class=\"ds-inline-flex ds-items-start ds-leading-none\" href=\"/series/icc-cricket-world-cup-2019-1144415/afghanistan-vs-sri-lanka-7th-match-1144489/full-scorecard\"><span class=\"ds-text-tight-s ds-font-regular ds-text-typo-primary hover:ds-text-typo-primary-hover ds-block\">ODI # 4149</span></a>,\n",
       " <a class=\"ds-inline-flex ds-items-start ds-leading-none\" href=\"/team/india-6\"><span class=\"ds-text-tight-s ds-font-regular ds-text-typo-primary hover:ds-text-typo-primary-hover ds-block\">India</span></a>,\n",
       " <a class=\"ds-inline-flex ds-items-start ds-leading-none\" href=\"/team/south-africa-3\"><span class=\"ds-text-tight-s ds-font-regular ds-text-typo-primary hover:ds-text-typo-primary-hover ds-block\">South Africa</span></a>,\n",
       " <a class=\"ds-inline-flex ds-items-start ds-leading-none\" href=\"/ci/content/ground/57312.html\"><span class=\"ds-text-tight-s ds-font-regular ds-text-typo-primary hover:ds-text-typo-primary-hover ds-block\">Southampton</span></a>,\n",
       " <a class=\"ds-inline-flex ds-items-start ds-leading-none\" href=\"/series/icc-cricket-world-cup-2019-1144415/india-vs-south-africa-8th-match-1144490/full-scorecard\"><span class=\"ds-text-tight-s ds-font-regular ds-text-typo-primary hover:ds-text-typo-primary-hover ds-block\">ODI # 4150</span></a>,\n",
       " <a class=\"ds-inline-flex ds-items-start ds-leading-none\" href=\"/team/bangladesh-25\"><span class=\"ds-text-tight-s ds-font-regular ds-text-typo-primary hover:ds-text-typo-primary-hover ds-block\">Bangladesh</span></a>,\n",
       " <a class=\"ds-inline-flex ds-items-start ds-leading-none\" href=\"/team/new-zealand-5\"><span class=\"ds-text-tight-s ds-font-regular ds-text-typo-primary hover:ds-text-typo-primary-hover ds-block\">New Zealand</span></a>,\n",
       " <a class=\"ds-inline-flex ds-items-start ds-leading-none\" href=\"/ci/content/ground/57127.html\"><span class=\"ds-text-tight-s ds-font-regular ds-text-typo-primary hover:ds-text-typo-primary-hover ds-block\">The Oval</span></a>,\n",
       " <a class=\"ds-inline-flex ds-items-start ds-leading-none\" href=\"/series/icc-cricket-world-cup-2019-1144415/bangladesh-vs-new-zealand-9th-match-1144491/full-scorecard\"><span class=\"ds-text-tight-s ds-font-regular ds-text-typo-primary hover:ds-text-typo-primary-hover ds-block\">ODI # 4151</span></a>,\n",
       " <a class=\"ds-inline-flex ds-items-start ds-leading-none\" href=\"/team/australia-2\"><span class=\"ds-text-tight-s ds-font-regular ds-text-typo-primary hover:ds-text-typo-primary-hover ds-block\">Australia</span></a>,\n",
       " <a class=\"ds-inline-flex ds-items-start ds-leading-none\" href=\"/team/west-indies-4\"><span class=\"ds-text-tight-s ds-font-regular ds-text-typo-primary hover:ds-text-typo-primary-hover ds-block\">West Indies</span></a>,\n",
       " <a class=\"ds-inline-flex ds-items-start ds-leading-none\" href=\"/ci/content/ground/57219.html\"><span class=\"ds-text-tight-s ds-font-regular ds-text-typo-primary hover:ds-text-typo-primary-hover ds-block\">Nottingham</span></a>,\n",
       " <a class=\"ds-inline-flex ds-items-start ds-leading-none\" href=\"/series/icc-cricket-world-cup-2019-1144415/australia-vs-west-indies-10th-match-1144492/full-scorecard\"><span class=\"ds-text-tight-s ds-font-regular ds-text-typo-primary hover:ds-text-typo-primary-hover ds-block\">ODI # 4152</span></a>,\n",
       " <a class=\"ds-inline-flex ds-items-start ds-leading-none\" href=\"/team/england-1\"><span class=\"ds-text-tight-s ds-font-regular ds-text-typo-primary hover:ds-text-typo-primary-hover ds-block\">England</span></a>,\n",
       " <a class=\"ds-inline-flex ds-items-start ds-leading-none\" href=\"/team/bangladesh-25\"><span class=\"ds-text-tight-s ds-font-regular ds-text-typo-primary hover:ds-text-typo-primary-hover ds-block\">Bangladesh</span></a>,\n",
       " <a class=\"ds-inline-flex ds-items-start ds-leading-none\" href=\"/ci/content/ground/56874.html\"><span class=\"ds-text-tight-s ds-font-regular ds-text-typo-primary hover:ds-text-typo-primary-hover ds-block\">Cardiff</span></a>,\n",
       " <a class=\"ds-inline-flex ds-items-start ds-leading-none\" href=\"/series/icc-cricket-world-cup-2019-1144415/england-vs-bangladesh-12th-match-1144494/full-scorecard\"><span class=\"ds-text-tight-s ds-font-regular ds-text-typo-primary hover:ds-text-typo-primary-hover ds-block\">ODI # 4153</span></a>,\n",
       " <a class=\"ds-inline-flex ds-items-start ds-leading-none\" href=\"/team/afghanistan-40\"><span class=\"ds-text-tight-s ds-font-regular ds-text-typo-primary hover:ds-text-typo-primary-hover ds-block\">Afghanistan</span></a>,\n",
       " <a class=\"ds-inline-flex ds-items-start ds-leading-none\" href=\"/team/new-zealand-5\"><span class=\"ds-text-tight-s ds-font-regular ds-text-typo-primary hover:ds-text-typo-primary-hover ds-block\">New Zealand</span></a>,\n",
       " <a class=\"ds-inline-flex ds-items-start ds-leading-none\" href=\"/ci/content/ground/57351.html\"><span class=\"ds-text-tight-s ds-font-regular ds-text-typo-primary hover:ds-text-typo-primary-hover ds-block\">Taunton</span></a>,\n",
       " <a class=\"ds-inline-flex ds-items-start ds-leading-none\" href=\"/series/icc-cricket-world-cup-2019-1144415/afghanistan-vs-new-zealand-13th-match-1144495/full-scorecard\"><span class=\"ds-text-tight-s ds-font-regular ds-text-typo-primary hover:ds-text-typo-primary-hover ds-block\">ODI # 4154</span></a>,\n",
       " <a class=\"ds-inline-flex ds-items-start ds-leading-none\" href=\"/team/australia-2\"><span class=\"ds-text-tight-s ds-font-regular ds-text-typo-primary hover:ds-text-typo-primary-hover ds-block\">Australia</span></a>,\n",
       " <a class=\"ds-inline-flex ds-items-start ds-leading-none\" href=\"/team/india-6\"><span class=\"ds-text-tight-s ds-font-regular ds-text-typo-primary hover:ds-text-typo-primary-hover ds-block\">India</span></a>,\n",
       " <a class=\"ds-inline-flex ds-items-start ds-leading-none\" href=\"/ci/content/ground/57127.html\"><span class=\"ds-text-tight-s ds-font-regular ds-text-typo-primary hover:ds-text-typo-primary-hover ds-block\">The Oval</span></a>,\n",
       " <a class=\"ds-inline-flex ds-items-start ds-leading-none\" href=\"/series/icc-cricket-world-cup-2019-1144415/australia-vs-india-14th-match-1144496/full-scorecard\"><span class=\"ds-text-tight-s ds-font-regular ds-text-typo-primary hover:ds-text-typo-primary-hover ds-block\">ODI # 4155</span></a>,\n",
       " <a class=\"ds-inline-flex ds-items-start ds-leading-none\" href=\"/team/south-africa-3\"><span class=\"ds-text-tight-s ds-font-regular ds-text-typo-primary hover:ds-text-typo-primary-hover ds-block\">South Africa</span></a>,\n",
       " <a class=\"ds-inline-flex ds-items-start ds-leading-none\" href=\"/team/west-indies-4\"><span class=\"ds-text-tight-s ds-font-regular ds-text-typo-primary hover:ds-text-typo-primary-hover ds-block\">West Indies</span></a>,\n",
       " <a class=\"ds-inline-flex ds-items-start ds-leading-none\" href=\"/ci/content/ground/57312.html\"><span class=\"ds-text-tight-s ds-font-regular ds-text-typo-primary hover:ds-text-typo-primary-hover ds-block\">Southampton</span></a>,\n",
       " <a class=\"ds-inline-flex ds-items-start ds-leading-none\" href=\"/series/icc-cricket-world-cup-2019-1144415/south-africa-vs-west-indies-15th-match-1144497/full-scorecard\"><span class=\"ds-text-tight-s ds-font-regular ds-text-typo-primary hover:ds-text-typo-primary-hover ds-block\">ODI # 4156</span></a>,\n",
       " <a class=\"ds-inline-flex ds-items-start ds-leading-none\" href=\"/team/australia-2\"><span class=\"ds-text-tight-s ds-font-regular ds-text-typo-primary hover:ds-text-typo-primary-hover ds-block\">Australia</span></a>,\n",
       " <a class=\"ds-inline-flex ds-items-start ds-leading-none\" href=\"/team/pakistan-7\"><span class=\"ds-text-tight-s ds-font-regular ds-text-typo-primary hover:ds-text-typo-primary-hover ds-block\">Pakistan</span></a>,\n",
       " <a class=\"ds-inline-flex ds-items-start ds-leading-none\" href=\"/ci/content/ground/57351.html\"><span class=\"ds-text-tight-s ds-font-regular ds-text-typo-primary hover:ds-text-typo-primary-hover ds-block\">Taunton</span></a>,\n",
       " <a class=\"ds-inline-flex ds-items-start ds-leading-none\" href=\"/series/icc-cricket-world-cup-2019-1144415/australia-vs-pakistan-17th-match-1144499/full-scorecard\"><span class=\"ds-text-tight-s ds-font-regular ds-text-typo-primary hover:ds-text-typo-primary-hover ds-block\">ODI # 4157</span></a>,\n",
       " <a class=\"ds-inline-flex ds-items-start ds-leading-none\" href=\"/team/england-1\"><span class=\"ds-text-tight-s ds-font-regular ds-text-typo-primary hover:ds-text-typo-primary-hover ds-block\">England</span></a>,\n",
       " <a class=\"ds-inline-flex ds-items-start ds-leading-none\" href=\"/team/west-indies-4\"><span class=\"ds-text-tight-s ds-font-regular ds-text-typo-primary hover:ds-text-typo-primary-hover ds-block\">West Indies</span></a>,\n",
       " <a class=\"ds-inline-flex ds-items-start ds-leading-none\" href=\"/ci/content/ground/57312.html\"><span class=\"ds-text-tight-s ds-font-regular ds-text-typo-primary hover:ds-text-typo-primary-hover ds-block\">Southampton</span></a>,\n",
       " <a class=\"ds-inline-flex ds-items-start ds-leading-none\" href=\"/series/icc-cricket-world-cup-2019-1144415/england-vs-west-indies-19th-match-1144501/full-scorecard\"><span class=\"ds-text-tight-s ds-font-regular ds-text-typo-primary hover:ds-text-typo-primary-hover ds-block\">ODI # 4158</span></a>,\n",
       " <a class=\"ds-inline-flex ds-items-start ds-leading-none\" href=\"/team/australia-2\"><span class=\"ds-text-tight-s ds-font-regular ds-text-typo-primary hover:ds-text-typo-primary-hover ds-block\">Australia</span></a>,\n",
       " <a class=\"ds-inline-flex ds-items-start ds-leading-none\" href=\"/team/sri-lanka-8\"><span class=\"ds-text-tight-s ds-font-regular ds-text-typo-primary hover:ds-text-typo-primary-hover ds-block\">Sri Lanka</span></a>,\n",
       " <a class=\"ds-inline-flex ds-items-start ds-leading-none\" href=\"/ci/content/ground/57127.html\"><span class=\"ds-text-tight-s ds-font-regular ds-text-typo-primary hover:ds-text-typo-primary-hover ds-block\">The Oval</span></a>,\n",
       " <a class=\"ds-inline-flex ds-items-start ds-leading-none\" href=\"/series/icc-cricket-world-cup-2019-1144415/australia-vs-sri-lanka-20th-match-1144502/full-scorecard\"><span class=\"ds-text-tight-s ds-font-regular ds-text-typo-primary hover:ds-text-typo-primary-hover ds-block\">ODI # 4159</span></a>,\n",
       " <a class=\"ds-inline-flex ds-items-start ds-leading-none\" href=\"/team/afghanistan-40\"><span class=\"ds-text-tight-s ds-font-regular ds-text-typo-primary hover:ds-text-typo-primary-hover ds-block\">Afghanistan</span></a>,\n",
       " <a class=\"ds-inline-flex ds-items-start ds-leading-none\" href=\"/team/south-africa-3\"><span class=\"ds-text-tight-s ds-font-regular ds-text-typo-primary hover:ds-text-typo-primary-hover ds-block\">South Africa</span></a>,\n",
       " <a class=\"ds-inline-flex ds-items-start ds-leading-none\" href=\"/ci/content/ground/56874.html\"><span class=\"ds-text-tight-s ds-font-regular ds-text-typo-primary hover:ds-text-typo-primary-hover ds-block\">Cardiff</span></a>,\n",
       " <a class=\"ds-inline-flex ds-items-start ds-leading-none\" href=\"/series/icc-cricket-world-cup-2019-1144415/afghanistan-vs-south-africa-21st-match-1144503/full-scorecard\"><span class=\"ds-text-tight-s ds-font-regular ds-text-typo-primary hover:ds-text-typo-primary-hover ds-block\">ODI # 4160</span></a>,\n",
       " <a class=\"ds-inline-flex ds-items-start ds-leading-none\" href=\"/team/india-6\"><span class=\"ds-text-tight-s ds-font-regular ds-text-typo-primary hover:ds-text-typo-primary-hover ds-block\">India</span></a>,\n",
       " <a class=\"ds-inline-flex ds-items-start ds-leading-none\" href=\"/team/pakistan-7\"><span class=\"ds-text-tight-s ds-font-regular ds-text-typo-primary hover:ds-text-typo-primary-hover ds-block\">Pakistan</span></a>,\n",
       " <a class=\"ds-inline-flex ds-items-start ds-leading-none\" href=\"/ci/content/ground/57160.html\"><span class=\"ds-text-tight-s ds-font-regular ds-text-typo-primary hover:ds-text-typo-primary-hover ds-block\">Manchester</span></a>,\n",
       " <a class=\"ds-inline-flex ds-items-start ds-leading-none\" href=\"/series/icc-cricket-world-cup-2019-1144415/india-vs-pakistan-22nd-match-1144504/full-scorecard\"><span class=\"ds-text-tight-s ds-font-regular ds-text-typo-primary hover:ds-text-typo-primary-hover ds-block\">ODI # 4161</span></a>,\n",
       " <a class=\"ds-inline-flex ds-items-start ds-leading-none\" href=\"/team/bangladesh-25\"><span class=\"ds-text-tight-s ds-font-regular ds-text-typo-primary hover:ds-text-typo-primary-hover ds-block\">Bangladesh</span></a>,\n",
       " <a class=\"ds-inline-flex ds-items-start ds-leading-none\" href=\"/team/west-indies-4\"><span class=\"ds-text-tight-s ds-font-regular ds-text-typo-primary hover:ds-text-typo-primary-hover ds-block\">West Indies</span></a>,\n",
       " <a class=\"ds-inline-flex ds-items-start ds-leading-none\" href=\"/ci/content/ground/57351.html\"><span class=\"ds-text-tight-s ds-font-regular ds-text-typo-primary hover:ds-text-typo-primary-hover ds-block\">Taunton</span></a>,\n",
       " <a class=\"ds-inline-flex ds-items-start ds-leading-none\" href=\"/series/icc-cricket-world-cup-2019-1144415/bangladesh-vs-west-indies-23rd-match-1144505/full-scorecard\"><span class=\"ds-text-tight-s ds-font-regular ds-text-typo-primary hover:ds-text-typo-primary-hover ds-block\">ODI # 4162</span></a>,\n",
       " <a class=\"ds-inline-flex ds-items-start ds-leading-none\" href=\"/team/england-1\"><span class=\"ds-text-tight-s ds-font-regular ds-text-typo-primary hover:ds-text-typo-primary-hover ds-block\">England</span></a>,\n",
       " <a class=\"ds-inline-flex ds-items-start ds-leading-none\" href=\"/team/afghanistan-40\"><span class=\"ds-text-tight-s ds-font-regular ds-text-typo-primary hover:ds-text-typo-primary-hover ds-block\">Afghanistan</span></a>,\n",
       " <a class=\"ds-inline-flex ds-items-start ds-leading-none\" href=\"/ci/content/ground/57160.html\"><span class=\"ds-text-tight-s ds-font-regular ds-text-typo-primary hover:ds-text-typo-primary-hover ds-block\">Manchester</span></a>,\n",
       " <a class=\"ds-inline-flex ds-items-start ds-leading-none\" href=\"/series/icc-cricket-world-cup-2019-1144415/england-vs-afghanistan-24th-match-1144506/full-scorecard\"><span class=\"ds-text-tight-s ds-font-regular ds-text-typo-primary hover:ds-text-typo-primary-hover ds-block\">ODI # 4163</span></a>,\n",
       " <a class=\"ds-inline-flex ds-items-start ds-leading-none\" href=\"/team/new-zealand-5\"><span class=\"ds-text-tight-s ds-font-regular ds-text-typo-primary hover:ds-text-typo-primary-hover ds-block\">New Zealand</span></a>,\n",
       " <a class=\"ds-inline-flex ds-items-start ds-leading-none\" href=\"/team/south-africa-3\"><span class=\"ds-text-tight-s ds-font-regular ds-text-typo-primary hover:ds-text-typo-primary-hover ds-block\">South Africa</span></a>,\n",
       " <a class=\"ds-inline-flex ds-items-start ds-leading-none\" href=\"/ci/content/ground/56788.html\"><span class=\"ds-text-tight-s ds-font-regular ds-text-typo-primary hover:ds-text-typo-primary-hover ds-block\">Birmingham</span></a>,\n",
       " <a class=\"ds-inline-flex ds-items-start ds-leading-none\" href=\"/series/icc-cricket-world-cup-2019-1144415/new-zealand-vs-south-africa-25th-match-1144507/full-scorecard\"><span class=\"ds-text-tight-s ds-font-regular ds-text-typo-primary hover:ds-text-typo-primary-hover ds-block\">ODI # 4165</span></a>,\n",
       " <a class=\"ds-inline-flex ds-items-start ds-leading-none\" href=\"/team/australia-2\"><span class=\"ds-text-tight-s ds-font-regular ds-text-typo-primary hover:ds-text-typo-primary-hover ds-block\">Australia</span></a>,\n",
       " <a class=\"ds-inline-flex ds-items-start ds-leading-none\" href=\"/team/bangladesh-25\"><span class=\"ds-text-tight-s ds-font-regular ds-text-typo-primary hover:ds-text-typo-primary-hover ds-block\">Bangladesh</span></a>,\n",
       " <a class=\"ds-inline-flex ds-items-start ds-leading-none\" href=\"/ci/content/ground/57219.html\"><span class=\"ds-text-tight-s ds-font-regular ds-text-typo-primary hover:ds-text-typo-primary-hover ds-block\">Nottingham</span></a>,\n",
       " <a class=\"ds-inline-flex ds-items-start ds-leading-none\" href=\"/series/icc-cricket-world-cup-2019-1144415/australia-vs-bangladesh-26th-match-1144508/full-scorecard\"><span class=\"ds-text-tight-s ds-font-regular ds-text-typo-primary hover:ds-text-typo-primary-hover ds-block\">ODI # 4166</span></a>,\n",
       " <a class=\"ds-inline-flex ds-items-start ds-leading-none\" href=\"/team/england-1\"><span class=\"ds-text-tight-s ds-font-regular ds-text-typo-primary hover:ds-text-typo-primary-hover ds-block\">England</span></a>,\n",
       " <a class=\"ds-inline-flex ds-items-start ds-leading-none\" href=\"/team/sri-lanka-8\"><span class=\"ds-text-tight-s ds-font-regular ds-text-typo-primary hover:ds-text-typo-primary-hover ds-block\">Sri Lanka</span></a>,\n",
       " <a class=\"ds-inline-flex ds-items-start ds-leading-none\" href=\"/ci/content/ground/57092.html\"><span class=\"ds-text-tight-s ds-font-regular ds-text-typo-primary hover:ds-text-typo-primary-hover ds-block\">Leeds</span></a>,\n",
       " <a class=\"ds-inline-flex ds-items-start ds-leading-none\" href=\"/series/icc-cricket-world-cup-2019-1144415/england-vs-sri-lanka-27th-match-1144509/full-scorecard\"><span class=\"ds-text-tight-s ds-font-regular ds-text-typo-primary hover:ds-text-typo-primary-hover ds-block\">ODI # 4168</span></a>,\n",
       " <a class=\"ds-inline-flex ds-items-start ds-leading-none\" href=\"/team/afghanistan-40\"><span class=\"ds-text-tight-s ds-font-regular ds-text-typo-primary hover:ds-text-typo-primary-hover ds-block\">Afghanistan</span></a>,\n",
       " <a class=\"ds-inline-flex ds-items-start ds-leading-none\" href=\"/team/india-6\"><span class=\"ds-text-tight-s ds-font-regular ds-text-typo-primary hover:ds-text-typo-primary-hover ds-block\">India</span></a>,\n",
       " <a class=\"ds-inline-flex ds-items-start ds-leading-none\" href=\"/ci/content/ground/57312.html\"><span class=\"ds-text-tight-s ds-font-regular ds-text-typo-primary hover:ds-text-typo-primary-hover ds-block\">Southampton</span></a>,\n",
       " <a class=\"ds-inline-flex ds-items-start ds-leading-none\" href=\"/series/icc-cricket-world-cup-2019-1144415/afghanistan-vs-india-28th-match-1144510/full-scorecard\"><span class=\"ds-text-tight-s ds-font-regular ds-text-typo-primary hover:ds-text-typo-primary-hover ds-block\">ODI # 4169</span></a>,\n",
       " <a class=\"ds-inline-flex ds-items-start ds-leading-none\" href=\"/team/new-zealand-5\"><span class=\"ds-text-tight-s ds-font-regular ds-text-typo-primary hover:ds-text-typo-primary-hover ds-block\">New Zealand</span></a>,\n",
       " <a class=\"ds-inline-flex ds-items-start ds-leading-none\" href=\"/team/west-indies-4\"><span class=\"ds-text-tight-s ds-font-regular ds-text-typo-primary hover:ds-text-typo-primary-hover ds-block\">West Indies</span></a>,\n",
       " <a class=\"ds-inline-flex ds-items-start ds-leading-none\" href=\"/ci/content/ground/57160.html\"><span class=\"ds-text-tight-s ds-font-regular ds-text-typo-primary hover:ds-text-typo-primary-hover ds-block\">Manchester</span></a>,\n",
       " <a class=\"ds-inline-flex ds-items-start ds-leading-none\" href=\"/series/icc-cricket-world-cup-2019-1144415/new-zealand-vs-west-indies-29th-match-1144511/full-scorecard\"><span class=\"ds-text-tight-s ds-font-regular ds-text-typo-primary hover:ds-text-typo-primary-hover ds-block\">ODI # 4170</span></a>,\n",
       " <a class=\"ds-inline-flex ds-items-start ds-leading-none\" href=\"/team/pakistan-7\"><span class=\"ds-text-tight-s ds-font-regular ds-text-typo-primary hover:ds-text-typo-primary-hover ds-block\">Pakistan</span></a>,\n",
       " <a class=\"ds-inline-flex ds-items-start ds-leading-none\" href=\"/team/south-africa-3\"><span class=\"ds-text-tight-s ds-font-regular ds-text-typo-primary hover:ds-text-typo-primary-hover ds-block\">South Africa</span></a>,\n",
       " <a class=\"ds-inline-flex ds-items-start ds-leading-none\" href=\"/ci/content/ground/57129.html\"><span class=\"ds-text-tight-s ds-font-regular ds-text-typo-primary hover:ds-text-typo-primary-hover ds-block\">Lord's</span></a>,\n",
       " <a class=\"ds-inline-flex ds-items-start ds-leading-none\" href=\"/series/icc-cricket-world-cup-2019-1144415/pakistan-vs-south-africa-30th-match-1144512/full-scorecard\"><span class=\"ds-text-tight-s ds-font-regular ds-text-typo-primary hover:ds-text-typo-primary-hover ds-block\">ODI # 4171</span></a>,\n",
       " <a class=\"ds-inline-flex ds-items-start ds-leading-none\" href=\"/team/afghanistan-40\"><span class=\"ds-text-tight-s ds-font-regular ds-text-typo-primary hover:ds-text-typo-primary-hover ds-block\">Afghanistan</span></a>,\n",
       " <a class=\"ds-inline-flex ds-items-start ds-leading-none\" href=\"/team/bangladesh-25\"><span class=\"ds-text-tight-s ds-font-regular ds-text-typo-primary hover:ds-text-typo-primary-hover ds-block\">Bangladesh</span></a>,\n",
       " <a class=\"ds-inline-flex ds-items-start ds-leading-none\" href=\"/ci/content/ground/57312.html\"><span class=\"ds-text-tight-s ds-font-regular ds-text-typo-primary hover:ds-text-typo-primary-hover ds-block\">Southampton</span></a>,\n",
       " <a class=\"ds-inline-flex ds-items-start ds-leading-none\" href=\"/series/icc-cricket-world-cup-2019-1144415/afghanistan-vs-bangladesh-31st-match-1144513/full-scorecard\"><span class=\"ds-text-tight-s ds-font-regular ds-text-typo-primary hover:ds-text-typo-primary-hover ds-block\">ODI # 4172</span></a>,\n",
       " <a class=\"ds-inline-flex ds-items-start ds-leading-none\" href=\"/team/england-1\"><span class=\"ds-text-tight-s ds-font-regular ds-text-typo-primary hover:ds-text-typo-primary-hover ds-block\">England</span></a>,\n",
       " <a class=\"ds-inline-flex ds-items-start ds-leading-none\" href=\"/team/australia-2\"><span class=\"ds-text-tight-s ds-font-regular ds-text-typo-primary hover:ds-text-typo-primary-hover ds-block\">Australia</span></a>,\n",
       " <a class=\"ds-inline-flex ds-items-start ds-leading-none\" href=\"/ci/content/ground/57129.html\"><span class=\"ds-text-tight-s ds-font-regular ds-text-typo-primary hover:ds-text-typo-primary-hover ds-block\">Lord's</span></a>,\n",
       " <a class=\"ds-inline-flex ds-items-start ds-leading-none\" href=\"/series/icc-cricket-world-cup-2019-1144415/england-vs-australia-32nd-match-1144514/full-scorecard\"><span class=\"ds-text-tight-s ds-font-regular ds-text-typo-primary hover:ds-text-typo-primary-hover ds-block\">ODI # 4173</span></a>,\n",
       " <a class=\"ds-inline-flex ds-items-start ds-leading-none\" href=\"/team/new-zealand-5\"><span class=\"ds-text-tight-s ds-font-regular ds-text-typo-primary hover:ds-text-typo-primary-hover ds-block\">New Zealand</span></a>,\n",
       " <a class=\"ds-inline-flex ds-items-start ds-leading-none\" href=\"/team/pakistan-7\"><span class=\"ds-text-tight-s ds-font-regular ds-text-typo-primary hover:ds-text-typo-primary-hover ds-block\">Pakistan</span></a>,\n",
       " <a class=\"ds-inline-flex ds-items-start ds-leading-none\" href=\"/ci/content/ground/56788.html\"><span class=\"ds-text-tight-s ds-font-regular ds-text-typo-primary hover:ds-text-typo-primary-hover ds-block\">Birmingham</span></a>,\n",
       " <a class=\"ds-inline-flex ds-items-start ds-leading-none\" href=\"/series/icc-cricket-world-cup-2019-1144415/new-zealand-vs-pakistan-33rd-match-1144515/full-scorecard\"><span class=\"ds-text-tight-s ds-font-regular ds-text-typo-primary hover:ds-text-typo-primary-hover ds-block\">ODI # 4174</span></a>,\n",
       " <a class=\"ds-inline-flex ds-items-start ds-leading-none\" href=\"/team/india-6\"><span class=\"ds-text-tight-s ds-font-regular ds-text-typo-primary hover:ds-text-typo-primary-hover ds-block\">India</span></a>,\n",
       " <a class=\"ds-inline-flex ds-items-start ds-leading-none\" href=\"/team/west-indies-4\"><span class=\"ds-text-tight-s ds-font-regular ds-text-typo-primary hover:ds-text-typo-primary-hover ds-block\">West Indies</span></a>,\n",
       " <a class=\"ds-inline-flex ds-items-start ds-leading-none\" href=\"/ci/content/ground/57160.html\"><span class=\"ds-text-tight-s ds-font-regular ds-text-typo-primary hover:ds-text-typo-primary-hover ds-block\">Manchester</span></a>,\n",
       " <a class=\"ds-inline-flex ds-items-start ds-leading-none\" href=\"/series/icc-cricket-world-cup-2019-1144415/india-vs-west-indies-34th-match-1144516/full-scorecard\"><span class=\"ds-text-tight-s ds-font-regular ds-text-typo-primary hover:ds-text-typo-primary-hover ds-block\">ODI # 4175</span></a>,\n",
       " <a class=\"ds-inline-flex ds-items-start ds-leading-none\" href=\"/team/south-africa-3\"><span class=\"ds-text-tight-s ds-font-regular ds-text-typo-primary hover:ds-text-typo-primary-hover ds-block\">South Africa</span></a>,\n",
       " <a class=\"ds-inline-flex ds-items-start ds-leading-none\" href=\"/team/sri-lanka-8\"><span class=\"ds-text-tight-s ds-font-regular ds-text-typo-primary hover:ds-text-typo-primary-hover ds-block\">Sri Lanka</span></a>,\n",
       " <a class=\"ds-inline-flex ds-items-start ds-leading-none\" href=\"/ci/content/ground/56901.html\"><span class=\"ds-text-tight-s ds-font-regular ds-text-typo-primary hover:ds-text-typo-primary-hover ds-block\">Chester-le-Street</span></a>,\n",
       " <a class=\"ds-inline-flex ds-items-start ds-leading-none\" href=\"/series/icc-cricket-world-cup-2019-1144415/south-africa-vs-sri-lanka-35th-match-1144517/full-scorecard\"><span class=\"ds-text-tight-s ds-font-regular ds-text-typo-primary hover:ds-text-typo-primary-hover ds-block\">ODI # 4176</span></a>,\n",
       " <a class=\"ds-inline-flex ds-items-start ds-leading-none\" href=\"/team/afghanistan-40\"><span class=\"ds-text-tight-s ds-font-regular ds-text-typo-primary hover:ds-text-typo-primary-hover ds-block\">Afghanistan</span></a>,\n",
       " <a class=\"ds-inline-flex ds-items-start ds-leading-none\" href=\"/team/pakistan-7\"><span class=\"ds-text-tight-s ds-font-regular ds-text-typo-primary hover:ds-text-typo-primary-hover ds-block\">Pakistan</span></a>,\n",
       " <a class=\"ds-inline-flex ds-items-start ds-leading-none\" href=\"/ci/content/ground/57092.html\"><span class=\"ds-text-tight-s ds-font-regular ds-text-typo-primary hover:ds-text-typo-primary-hover ds-block\">Leeds</span></a>,\n",
       " <a class=\"ds-inline-flex ds-items-start ds-leading-none\" href=\"/series/icc-cricket-world-cup-2019-1144415/afghanistan-vs-pakistan-36th-match-1144518/full-scorecard\"><span class=\"ds-text-tight-s ds-font-regular ds-text-typo-primary hover:ds-text-typo-primary-hover ds-block\">ODI # 4177</span></a>,\n",
       " <a class=\"ds-inline-flex ds-items-start ds-leading-none\" href=\"/team/australia-2\"><span class=\"ds-text-tight-s ds-font-regular ds-text-typo-primary hover:ds-text-typo-primary-hover ds-block\">Australia</span></a>,\n",
       " <a class=\"ds-inline-flex ds-items-start ds-leading-none\" href=\"/team/new-zealand-5\"><span class=\"ds-text-tight-s ds-font-regular ds-text-typo-primary hover:ds-text-typo-primary-hover ds-block\">New Zealand</span></a>,\n",
       " <a class=\"ds-inline-flex ds-items-start ds-leading-none\" href=\"/ci/content/ground/57129.html\"><span class=\"ds-text-tight-s ds-font-regular ds-text-typo-primary hover:ds-text-typo-primary-hover ds-block\">Lord's</span></a>,\n",
       " <a class=\"ds-inline-flex ds-items-start ds-leading-none\" href=\"/series/icc-cricket-world-cup-2019-1144415/australia-vs-new-zealand-37th-match-1144519/full-scorecard\"><span class=\"ds-text-tight-s ds-font-regular ds-text-typo-primary hover:ds-text-typo-primary-hover ds-block\">ODI # 4178</span></a>,\n",
       " <a class=\"ds-inline-flex ds-items-start ds-leading-none\" href=\"/team/england-1\"><span class=\"ds-text-tight-s ds-font-regular ds-text-typo-primary hover:ds-text-typo-primary-hover ds-block\">England</span></a>,\n",
       " <a class=\"ds-inline-flex ds-items-start ds-leading-none\" href=\"/team/india-6\"><span class=\"ds-text-tight-s ds-font-regular ds-text-typo-primary hover:ds-text-typo-primary-hover ds-block\">India</span></a>,\n",
       " <a class=\"ds-inline-flex ds-items-start ds-leading-none\" href=\"/ci/content/ground/56788.html\"><span class=\"ds-text-tight-s ds-font-regular ds-text-typo-primary hover:ds-text-typo-primary-hover ds-block\">Birmingham</span></a>,\n",
       " <a class=\"ds-inline-flex ds-items-start ds-leading-none\" href=\"/series/icc-cricket-world-cup-2019-1144415/england-vs-india-38th-match-1144520/full-scorecard\"><span class=\"ds-text-tight-s ds-font-regular ds-text-typo-primary hover:ds-text-typo-primary-hover ds-block\">ODI # 4179</span></a>,\n",
       " <a class=\"ds-inline-flex ds-items-start ds-leading-none\" href=\"/team/sri-lanka-8\"><span class=\"ds-text-tight-s ds-font-regular ds-text-typo-primary hover:ds-text-typo-primary-hover ds-block\">Sri Lanka</span></a>,\n",
       " <a class=\"ds-inline-flex ds-items-start ds-leading-none\" href=\"/team/west-indies-4\"><span class=\"ds-text-tight-s ds-font-regular ds-text-typo-primary hover:ds-text-typo-primary-hover ds-block\">West Indies</span></a>,\n",
       " <a class=\"ds-inline-flex ds-items-start ds-leading-none\" href=\"/ci/content/ground/56901.html\"><span class=\"ds-text-tight-s ds-font-regular ds-text-typo-primary hover:ds-text-typo-primary-hover ds-block\">Chester-le-Street</span></a>,\n",
       " <a class=\"ds-inline-flex ds-items-start ds-leading-none\" href=\"/series/icc-cricket-world-cup-2019-1144415/sri-lanka-vs-west-indies-39th-match-1144521/full-scorecard\"><span class=\"ds-text-tight-s ds-font-regular ds-text-typo-primary hover:ds-text-typo-primary-hover ds-block\">ODI # 4180</span></a>,\n",
       " <a class=\"ds-inline-flex ds-items-start ds-leading-none\" href=\"/team/bangladesh-25\"><span class=\"ds-text-tight-s ds-font-regular ds-text-typo-primary hover:ds-text-typo-primary-hover ds-block\">Bangladesh</span></a>,\n",
       " <a class=\"ds-inline-flex ds-items-start ds-leading-none\" href=\"/team/india-6\"><span class=\"ds-text-tight-s ds-font-regular ds-text-typo-primary hover:ds-text-typo-primary-hover ds-block\">India</span></a>,\n",
       " <a class=\"ds-inline-flex ds-items-start ds-leading-none\" href=\"/ci/content/ground/56788.html\"><span class=\"ds-text-tight-s ds-font-regular ds-text-typo-primary hover:ds-text-typo-primary-hover ds-block\">Birmingham</span></a>,\n",
       " <a class=\"ds-inline-flex ds-items-start ds-leading-none\" href=\"/series/icc-cricket-world-cup-2019-1144415/bangladesh-vs-india-40th-match-1144522/full-scorecard\"><span class=\"ds-text-tight-s ds-font-regular ds-text-typo-primary hover:ds-text-typo-primary-hover ds-block\">ODI # 4182</span></a>,\n",
       " <a class=\"ds-inline-flex ds-items-start ds-leading-none\" href=\"/team/england-1\"><span class=\"ds-text-tight-s ds-font-regular ds-text-typo-primary hover:ds-text-typo-primary-hover ds-block\">England</span></a>,\n",
       " <a class=\"ds-inline-flex ds-items-start ds-leading-none\" href=\"/team/new-zealand-5\"><span class=\"ds-text-tight-s ds-font-regular ds-text-typo-primary hover:ds-text-typo-primary-hover ds-block\">New Zealand</span></a>,\n",
       " <a class=\"ds-inline-flex ds-items-start ds-leading-none\" href=\"/ci/content/ground/56901.html\"><span class=\"ds-text-tight-s ds-font-regular ds-text-typo-primary hover:ds-text-typo-primary-hover ds-block\">Chester-le-Street</span></a>,\n",
       " <a class=\"ds-inline-flex ds-items-start ds-leading-none\" href=\"/series/icc-cricket-world-cup-2019-1144415/england-vs-new-zealand-41st-match-1144523/full-scorecard\"><span class=\"ds-text-tight-s ds-font-regular ds-text-typo-primary hover:ds-text-typo-primary-hover ds-block\">ODI # 4183</span></a>,\n",
       " <a class=\"ds-inline-flex ds-items-start ds-leading-none\" href=\"/team/afghanistan-40\"><span class=\"ds-text-tight-s ds-font-regular ds-text-typo-primary hover:ds-text-typo-primary-hover ds-block\">Afghanistan</span></a>,\n",
       " <a class=\"ds-inline-flex ds-items-start ds-leading-none\" href=\"/team/west-indies-4\"><span class=\"ds-text-tight-s ds-font-regular ds-text-typo-primary hover:ds-text-typo-primary-hover ds-block\">West Indies</span></a>,\n",
       " <a class=\"ds-inline-flex ds-items-start ds-leading-none\" href=\"/ci/content/ground/57092.html\"><span class=\"ds-text-tight-s ds-font-regular ds-text-typo-primary hover:ds-text-typo-primary-hover ds-block\">Leeds</span></a>,\n",
       " <a class=\"ds-inline-flex ds-items-start ds-leading-none\" href=\"/series/icc-cricket-world-cup-2019-1144415/afghanistan-vs-west-indies-42nd-match-1144524/full-scorecard\"><span class=\"ds-text-tight-s ds-font-regular ds-text-typo-primary hover:ds-text-typo-primary-hover ds-block\">ODI # 4184</span></a>,\n",
       " <a class=\"ds-inline-flex ds-items-start ds-leading-none\" href=\"/team/bangladesh-25\"><span class=\"ds-text-tight-s ds-font-regular ds-text-typo-primary hover:ds-text-typo-primary-hover ds-block\">Bangladesh</span></a>,\n",
       " <a class=\"ds-inline-flex ds-items-start ds-leading-none\" href=\"/team/pakistan-7\"><span class=\"ds-text-tight-s ds-font-regular ds-text-typo-primary hover:ds-text-typo-primary-hover ds-block\">Pakistan</span></a>,\n",
       " <a class=\"ds-inline-flex ds-items-start ds-leading-none\" href=\"/ci/content/ground/57129.html\"><span class=\"ds-text-tight-s ds-font-regular ds-text-typo-primary hover:ds-text-typo-primary-hover ds-block\">Lord's</span></a>,\n",
       " <a class=\"ds-inline-flex ds-items-start ds-leading-none\" href=\"/series/icc-cricket-world-cup-2019-1144415/bangladesh-vs-pakistan-43rd-match-1144525/full-scorecard\"><span class=\"ds-text-tight-s ds-font-regular ds-text-typo-primary hover:ds-text-typo-primary-hover ds-block\">ODI # 4186</span></a>,\n",
       " <a class=\"ds-inline-flex ds-items-start ds-leading-none\" href=\"/team/india-6\"><span class=\"ds-text-tight-s ds-font-regular ds-text-typo-primary hover:ds-text-typo-primary-hover ds-block\">India</span></a>,\n",
       " <a class=\"ds-inline-flex ds-items-start ds-leading-none\" href=\"/team/sri-lanka-8\"><span class=\"ds-text-tight-s ds-font-regular ds-text-typo-primary hover:ds-text-typo-primary-hover ds-block\">Sri Lanka</span></a>,\n",
       " <a class=\"ds-inline-flex ds-items-start ds-leading-none\" href=\"/ci/content/ground/57092.html\"><span class=\"ds-text-tight-s ds-font-regular ds-text-typo-primary hover:ds-text-typo-primary-hover ds-block\">Leeds</span></a>,\n",
       " <a class=\"ds-inline-flex ds-items-start ds-leading-none\" href=\"/series/icc-cricket-world-cup-2019-1144415/india-vs-sri-lanka-44th-match-1144526/full-scorecard\"><span class=\"ds-text-tight-s ds-font-regular ds-text-typo-primary hover:ds-text-typo-primary-hover ds-block\">ODI # 4187</span></a>,\n",
       " <a class=\"ds-inline-flex ds-items-start ds-leading-none\" href=\"/team/australia-2\"><span class=\"ds-text-tight-s ds-font-regular ds-text-typo-primary hover:ds-text-typo-primary-hover ds-block\">Australia</span></a>,\n",
       " <a class=\"ds-inline-flex ds-items-start ds-leading-none\" href=\"/team/south-africa-3\"><span class=\"ds-text-tight-s ds-font-regular ds-text-typo-primary hover:ds-text-typo-primary-hover ds-block\">South Africa</span></a>,\n",
       " <a class=\"ds-inline-flex ds-items-start ds-leading-none\" href=\"/ci/content/ground/57160.html\"><span class=\"ds-text-tight-s ds-font-regular ds-text-typo-primary hover:ds-text-typo-primary-hover ds-block\">Manchester</span></a>,\n",
       " <a class=\"ds-inline-flex ds-items-start ds-leading-none\" href=\"/series/icc-cricket-world-cup-2019-1144415/australia-vs-south-africa-45th-match-1144527/full-scorecard\"><span class=\"ds-text-tight-s ds-font-regular ds-text-typo-primary hover:ds-text-typo-primary-hover ds-block\">ODI # 4188</span></a>,\n",
       " <a class=\"ds-inline-flex ds-items-start ds-leading-none\" href=\"/team/india-6\"><span class=\"ds-text-tight-s ds-font-regular ds-text-typo-primary hover:ds-text-typo-primary-hover ds-block\">India</span></a>,\n",
       " <a class=\"ds-inline-flex ds-items-start ds-leading-none\" href=\"/team/new-zealand-5\"><span class=\"ds-text-tight-s ds-font-regular ds-text-typo-primary hover:ds-text-typo-primary-hover ds-block\">New Zealand</span></a>,\n",
       " <a class=\"ds-inline-flex ds-items-start ds-leading-none\" href=\"/ci/content/ground/57160.html\"><span class=\"ds-text-tight-s ds-font-regular ds-text-typo-primary hover:ds-text-typo-primary-hover ds-block\">Manchester</span></a>,\n",
       " <a class=\"ds-inline-flex ds-items-start ds-leading-none\" href=\"/series/icc-cricket-world-cup-2019-1144415/india-vs-new-zealand-1st-semi-final-1144528/full-scorecard\"><span class=\"ds-text-tight-s ds-font-regular ds-text-typo-primary hover:ds-text-typo-primary-hover ds-block\">ODI # 4190</span></a>,\n",
       " <a class=\"ds-inline-flex ds-items-start ds-leading-none\" href=\"/team/england-1\"><span class=\"ds-text-tight-s ds-font-regular ds-text-typo-primary hover:ds-text-typo-primary-hover ds-block\">England</span></a>,\n",
       " <a class=\"ds-inline-flex ds-items-start ds-leading-none\" href=\"/team/australia-2\"><span class=\"ds-text-tight-s ds-font-regular ds-text-typo-primary hover:ds-text-typo-primary-hover ds-block\">Australia</span></a>,\n",
       " <a class=\"ds-inline-flex ds-items-start ds-leading-none\" href=\"/ci/content/ground/56788.html\"><span class=\"ds-text-tight-s ds-font-regular ds-text-typo-primary hover:ds-text-typo-primary-hover ds-block\">Birmingham</span></a>,\n",
       " <a class=\"ds-inline-flex ds-items-start ds-leading-none\" href=\"/series/icc-cricket-world-cup-2019-1144415/england-vs-australia-2nd-semi-final-1144529/full-scorecard\"><span class=\"ds-text-tight-s ds-font-regular ds-text-typo-primary hover:ds-text-typo-primary-hover ds-block\">ODI # 4191</span></a>,\n",
       " <a class=\"ds-inline-flex ds-items-start ds-leading-none\" href=\"/team/england-1\"><span class=\"ds-text-tight-s ds-font-regular ds-text-typo-primary hover:ds-text-typo-primary-hover ds-block\">England</span></a>,\n",
       " <a class=\"ds-inline-flex ds-items-start ds-leading-none\" href=\"/team/new-zealand-5\"><span class=\"ds-text-tight-s ds-font-regular ds-text-typo-primary hover:ds-text-typo-primary-hover ds-block\">New Zealand</span></a>,\n",
       " <a class=\"ds-inline-flex ds-items-start ds-leading-none\" href=\"/ci/content/ground/57129.html\"><span class=\"ds-text-tight-s ds-font-regular ds-text-typo-primary hover:ds-text-typo-primary-hover ds-block\">Lord's</span></a>,\n",
       " <a class=\"ds-inline-flex ds-items-start ds-leading-none\" href=\"/series/icc-cricket-world-cup-2019-1144415/england-vs-new-zealand-final-1144530/full-scorecard\"><span class=\"ds-text-tight-s ds-font-regular ds-text-typo-primary hover:ds-text-typo-primary-hover ds-block\">ODI # 4192</span></a>,\n",
       " <a class=\"ds-inline-flex ds-items-start ds-leading-none\" href=\"https://disneytermsofuse.com/\" rel=\"noopener noreferrer\" target=\"_blank\"><span class=\"ds-text-compact-xs ds-text-typo hover:ds-underline hover:ds-decoration-ui-stroke ds-block ds-inline-block ds-cursor-pointer\">Terms of Use</span></a>,\n",
       " <a class=\"ds-inline-flex ds-items-start ds-leading-none\" href=\"https://privacy.thewaltdisneycompany.com/en/\" rel=\"noopener noreferrer\" target=\"_blank\"><span class=\"ds-text-compact-xs ds-text-typo hover:ds-underline hover:ds-decoration-ui-stroke ds-block ds-inline-block ds-cursor-pointer\">Privacy Policy</span></a>,\n",
       " <a class=\"ds-inline-flex ds-items-start ds-leading-none\" href=\"https://preferences-mgr.truste.com/?type=espn&amp;affiliateId=148\" rel=\"noopener noreferrer\" target=\"_blank\"><span class=\"ds-text-compact-xs ds-text-typo hover:ds-underline hover:ds-decoration-ui-stroke ds-block ds-inline-block ds-cursor-pointer\">Interest-Based Ads</span></a>,\n",
       " <a class=\"ds-inline-flex ds-items-start ds-leading-none\" href=\"https://privacy.thewaltdisneycompany.com/en/current-privacy-policy/addendum-to-the-global-privacy-policy/\" rel=\"noopener noreferrer\" target=\"_blank\"><span class=\"ds-text-compact-xs ds-text-typo hover:ds-underline hover:ds-decoration-ui-stroke ds-block ds-inline-block ds-cursor-pointer\">Addendum to the Global Privacy Policy</span></a>,\n",
       " <a class=\"ds-inline-flex ds-items-start ds-leading-none\" href=\"https://submit.espncricinfo.com/ci/content/submit/forms/feedback.html\" rel=\"noopener noreferrer\" target=\"_blank\"><span class=\"ds-text-compact-xs ds-text-typo hover:ds-underline hover:ds-decoration-ui-stroke ds-block ds-inline-block ds-cursor-pointer\">Feedback</span></a>]"
      ]
     },
     "execution_count": 7,
     "metadata": {},
     "output_type": "execute_result"
    }
   ],
   "source": [
    "URL = r\"https://stats.espncricinfo.com/ci/engine/records/team/match_results.html?id=12357;type=tournament\"\n",
    "page = requests.get(URL)\n",
    "page_content = page.content\n",
    "soup = bs(page_content,\"html.parser\")\n",
    "table_data = soup.findAll(\"a\",{\"class\":\"ds-inline-flex ds-items-start ds-leading-none\"})\n",
    "table_data"
   ]
  },
  {
   "cell_type": "code",
   "execution_count": 8,
   "id": "834688b4",
   "metadata": {},
   "outputs": [
    {
     "data": {
      "text/plain": [
       "185"
      ]
     },
     "execution_count": 8,
     "metadata": {},
     "output_type": "execute_result"
    }
   ],
   "source": [
    "#printing length to confirm\n",
    "len(table_data)"
   ]
  },
  {
   "cell_type": "code",
   "execution_count": 9,
   "id": "fc2723e6",
   "metadata": {},
   "outputs": [
    {
     "name": "stdout",
     "output_type": "stream",
     "text": [
      "['/series/icc-cricket-world-cup-2019-1144415/england-vs-south-africa-1st-match-1144483/full-scorecard', '/series/icc-cricket-world-cup-2019-1144415/pakistan-vs-west-indies-2nd-match-1144484/full-scorecard', '/series/icc-cricket-world-cup-2019-1144415/new-zealand-vs-sri-lanka-3rd-match-1144485/full-scorecard', '/series/icc-cricket-world-cup-2019-1144415/afghanistan-vs-australia-4th-match-1144486/full-scorecard', '/series/icc-cricket-world-cup-2019-1144415/bangladesh-vs-south-africa-5th-match-1144487/full-scorecard', '/series/icc-cricket-world-cup-2019-1144415/england-vs-pakistan-6th-match-1144488/full-scorecard', '/series/icc-cricket-world-cup-2019-1144415/afghanistan-vs-sri-lanka-7th-match-1144489/full-scorecard', '/series/icc-cricket-world-cup-2019-1144415/india-vs-south-africa-8th-match-1144490/full-scorecard', '/series/icc-cricket-world-cup-2019-1144415/bangladesh-vs-new-zealand-9th-match-1144491/full-scorecard', '/series/icc-cricket-world-cup-2019-1144415/australia-vs-west-indies-10th-match-1144492/full-scorecard', '/series/icc-cricket-world-cup-2019-1144415/england-vs-bangladesh-12th-match-1144494/full-scorecard', '/series/icc-cricket-world-cup-2019-1144415/afghanistan-vs-new-zealand-13th-match-1144495/full-scorecard', '/series/icc-cricket-world-cup-2019-1144415/australia-vs-india-14th-match-1144496/full-scorecard', '/series/icc-cricket-world-cup-2019-1144415/south-africa-vs-west-indies-15th-match-1144497/full-scorecard', '/series/icc-cricket-world-cup-2019-1144415/australia-vs-pakistan-17th-match-1144499/full-scorecard', '/series/icc-cricket-world-cup-2019-1144415/england-vs-west-indies-19th-match-1144501/full-scorecard', '/series/icc-cricket-world-cup-2019-1144415/australia-vs-sri-lanka-20th-match-1144502/full-scorecard', '/series/icc-cricket-world-cup-2019-1144415/afghanistan-vs-south-africa-21st-match-1144503/full-scorecard', '/series/icc-cricket-world-cup-2019-1144415/india-vs-pakistan-22nd-match-1144504/full-scorecard', '/series/icc-cricket-world-cup-2019-1144415/bangladesh-vs-west-indies-23rd-match-1144505/full-scorecard', '/series/icc-cricket-world-cup-2019-1144415/england-vs-afghanistan-24th-match-1144506/full-scorecard', '/series/icc-cricket-world-cup-2019-1144415/new-zealand-vs-south-africa-25th-match-1144507/full-scorecard', '/series/icc-cricket-world-cup-2019-1144415/australia-vs-bangladesh-26th-match-1144508/full-scorecard', '/series/icc-cricket-world-cup-2019-1144415/england-vs-sri-lanka-27th-match-1144509/full-scorecard', '/series/icc-cricket-world-cup-2019-1144415/afghanistan-vs-india-28th-match-1144510/full-scorecard', '/series/icc-cricket-world-cup-2019-1144415/new-zealand-vs-west-indies-29th-match-1144511/full-scorecard', '/series/icc-cricket-world-cup-2019-1144415/pakistan-vs-south-africa-30th-match-1144512/full-scorecard', '/series/icc-cricket-world-cup-2019-1144415/afghanistan-vs-bangladesh-31st-match-1144513/full-scorecard', '/series/icc-cricket-world-cup-2019-1144415/england-vs-australia-32nd-match-1144514/full-scorecard', '/series/icc-cricket-world-cup-2019-1144415/new-zealand-vs-pakistan-33rd-match-1144515/full-scorecard', '/series/icc-cricket-world-cup-2019-1144415/india-vs-west-indies-34th-match-1144516/full-scorecard', '/series/icc-cricket-world-cup-2019-1144415/south-africa-vs-sri-lanka-35th-match-1144517/full-scorecard', '/series/icc-cricket-world-cup-2019-1144415/afghanistan-vs-pakistan-36th-match-1144518/full-scorecard', '/series/icc-cricket-world-cup-2019-1144415/australia-vs-new-zealand-37th-match-1144519/full-scorecard', '/series/icc-cricket-world-cup-2019-1144415/england-vs-india-38th-match-1144520/full-scorecard', '/series/icc-cricket-world-cup-2019-1144415/sri-lanka-vs-west-indies-39th-match-1144521/full-scorecard', '/series/icc-cricket-world-cup-2019-1144415/bangladesh-vs-india-40th-match-1144522/full-scorecard', '/series/icc-cricket-world-cup-2019-1144415/england-vs-new-zealand-41st-match-1144523/full-scorecard', '/series/icc-cricket-world-cup-2019-1144415/afghanistan-vs-west-indies-42nd-match-1144524/full-scorecard', '/series/icc-cricket-world-cup-2019-1144415/bangladesh-vs-pakistan-43rd-match-1144525/full-scorecard', '/series/icc-cricket-world-cup-2019-1144415/india-vs-sri-lanka-44th-match-1144526/full-scorecard', '/series/icc-cricket-world-cup-2019-1144415/australia-vs-south-africa-45th-match-1144527/full-scorecard', '/series/icc-cricket-world-cup-2019-1144415/india-vs-new-zealand-1st-semi-final-1144528/full-scorecard', '/series/icc-cricket-world-cup-2019-1144415/england-vs-australia-2nd-semi-final-1144529/full-scorecard', '/series/icc-cricket-world-cup-2019-1144415/england-vs-new-zealand-final-1144530/full-scorecard', 'https://privacy.thewaltdisneycompany.com/en/current-privacy-policy/addendum-to-the-global-privacy-policy/']\n"
     ]
    }
   ],
   "source": [
    "abc=[]\n",
    "s=1\n",
    "for i in table_data:\n",
    "    if s%4==0:\n",
    "        abc.append(i.get(\"href\"))\n",
    "    s=s+1\n",
    "    \n",
    "print(abc)"
   ]
  },
  {
   "cell_type": "code",
   "execution_count": 10,
   "id": "231d857e",
   "metadata": {},
   "outputs": [],
   "source": [
    "ab=abc[0:45]"
   ]
  },
  {
   "cell_type": "code",
   "execution_count": 11,
   "id": "a937000c",
   "metadata": {},
   "outputs": [
    {
     "data": {
      "text/plain": [
       "45"
      ]
     },
     "execution_count": 11,
     "metadata": {},
     "output_type": "execute_result"
    }
   ],
   "source": [
    "len(ab)"
   ]
  },
  {
   "cell_type": "code",
   "execution_count": 12,
   "id": "705ed436",
   "metadata": {},
   "outputs": [
    {
     "name": "stdout",
     "output_type": "stream",
     "text": [
      "['https://www.espncricinfo.com/series/icc-cricket-world-cup-2019-1144415/england-vs-south-africa-1st-match-1144483/full-scorecard', 'https://www.espncricinfo.com/series/icc-cricket-world-cup-2019-1144415/pakistan-vs-west-indies-2nd-match-1144484/full-scorecard', 'https://www.espncricinfo.com/series/icc-cricket-world-cup-2019-1144415/new-zealand-vs-sri-lanka-3rd-match-1144485/full-scorecard', 'https://www.espncricinfo.com/series/icc-cricket-world-cup-2019-1144415/afghanistan-vs-australia-4th-match-1144486/full-scorecard', 'https://www.espncricinfo.com/series/icc-cricket-world-cup-2019-1144415/bangladesh-vs-south-africa-5th-match-1144487/full-scorecard', 'https://www.espncricinfo.com/series/icc-cricket-world-cup-2019-1144415/england-vs-pakistan-6th-match-1144488/full-scorecard', 'https://www.espncricinfo.com/series/icc-cricket-world-cup-2019-1144415/afghanistan-vs-sri-lanka-7th-match-1144489/full-scorecard', 'https://www.espncricinfo.com/series/icc-cricket-world-cup-2019-1144415/india-vs-south-africa-8th-match-1144490/full-scorecard', 'https://www.espncricinfo.com/series/icc-cricket-world-cup-2019-1144415/bangladesh-vs-new-zealand-9th-match-1144491/full-scorecard', 'https://www.espncricinfo.com/series/icc-cricket-world-cup-2019-1144415/australia-vs-west-indies-10th-match-1144492/full-scorecard', 'https://www.espncricinfo.com/series/icc-cricket-world-cup-2019-1144415/england-vs-bangladesh-12th-match-1144494/full-scorecard', 'https://www.espncricinfo.com/series/icc-cricket-world-cup-2019-1144415/afghanistan-vs-new-zealand-13th-match-1144495/full-scorecard', 'https://www.espncricinfo.com/series/icc-cricket-world-cup-2019-1144415/australia-vs-india-14th-match-1144496/full-scorecard', 'https://www.espncricinfo.com/series/icc-cricket-world-cup-2019-1144415/south-africa-vs-west-indies-15th-match-1144497/full-scorecard', 'https://www.espncricinfo.com/series/icc-cricket-world-cup-2019-1144415/australia-vs-pakistan-17th-match-1144499/full-scorecard', 'https://www.espncricinfo.com/series/icc-cricket-world-cup-2019-1144415/england-vs-west-indies-19th-match-1144501/full-scorecard', 'https://www.espncricinfo.com/series/icc-cricket-world-cup-2019-1144415/australia-vs-sri-lanka-20th-match-1144502/full-scorecard', 'https://www.espncricinfo.com/series/icc-cricket-world-cup-2019-1144415/afghanistan-vs-south-africa-21st-match-1144503/full-scorecard', 'https://www.espncricinfo.com/series/icc-cricket-world-cup-2019-1144415/india-vs-pakistan-22nd-match-1144504/full-scorecard', 'https://www.espncricinfo.com/series/icc-cricket-world-cup-2019-1144415/bangladesh-vs-west-indies-23rd-match-1144505/full-scorecard', 'https://www.espncricinfo.com/series/icc-cricket-world-cup-2019-1144415/england-vs-afghanistan-24th-match-1144506/full-scorecard', 'https://www.espncricinfo.com/series/icc-cricket-world-cup-2019-1144415/new-zealand-vs-south-africa-25th-match-1144507/full-scorecard', 'https://www.espncricinfo.com/series/icc-cricket-world-cup-2019-1144415/australia-vs-bangladesh-26th-match-1144508/full-scorecard', 'https://www.espncricinfo.com/series/icc-cricket-world-cup-2019-1144415/england-vs-sri-lanka-27th-match-1144509/full-scorecard', 'https://www.espncricinfo.com/series/icc-cricket-world-cup-2019-1144415/afghanistan-vs-india-28th-match-1144510/full-scorecard', 'https://www.espncricinfo.com/series/icc-cricket-world-cup-2019-1144415/new-zealand-vs-west-indies-29th-match-1144511/full-scorecard', 'https://www.espncricinfo.com/series/icc-cricket-world-cup-2019-1144415/pakistan-vs-south-africa-30th-match-1144512/full-scorecard', 'https://www.espncricinfo.com/series/icc-cricket-world-cup-2019-1144415/afghanistan-vs-bangladesh-31st-match-1144513/full-scorecard', 'https://www.espncricinfo.com/series/icc-cricket-world-cup-2019-1144415/england-vs-australia-32nd-match-1144514/full-scorecard', 'https://www.espncricinfo.com/series/icc-cricket-world-cup-2019-1144415/new-zealand-vs-pakistan-33rd-match-1144515/full-scorecard', 'https://www.espncricinfo.com/series/icc-cricket-world-cup-2019-1144415/india-vs-west-indies-34th-match-1144516/full-scorecard', 'https://www.espncricinfo.com/series/icc-cricket-world-cup-2019-1144415/south-africa-vs-sri-lanka-35th-match-1144517/full-scorecard', 'https://www.espncricinfo.com/series/icc-cricket-world-cup-2019-1144415/afghanistan-vs-pakistan-36th-match-1144518/full-scorecard', 'https://www.espncricinfo.com/series/icc-cricket-world-cup-2019-1144415/australia-vs-new-zealand-37th-match-1144519/full-scorecard', 'https://www.espncricinfo.com/series/icc-cricket-world-cup-2019-1144415/england-vs-india-38th-match-1144520/full-scorecard', 'https://www.espncricinfo.com/series/icc-cricket-world-cup-2019-1144415/sri-lanka-vs-west-indies-39th-match-1144521/full-scorecard', 'https://www.espncricinfo.com/series/icc-cricket-world-cup-2019-1144415/bangladesh-vs-india-40th-match-1144522/full-scorecard', 'https://www.espncricinfo.com/series/icc-cricket-world-cup-2019-1144415/england-vs-new-zealand-41st-match-1144523/full-scorecard', 'https://www.espncricinfo.com/series/icc-cricket-world-cup-2019-1144415/afghanistan-vs-west-indies-42nd-match-1144524/full-scorecard', 'https://www.espncricinfo.com/series/icc-cricket-world-cup-2019-1144415/bangladesh-vs-pakistan-43rd-match-1144525/full-scorecard', 'https://www.espncricinfo.com/series/icc-cricket-world-cup-2019-1144415/india-vs-sri-lanka-44th-match-1144526/full-scorecard', 'https://www.espncricinfo.com/series/icc-cricket-world-cup-2019-1144415/australia-vs-south-africa-45th-match-1144527/full-scorecard', 'https://www.espncricinfo.com/series/icc-cricket-world-cup-2019-1144415/india-vs-new-zealand-1st-semi-final-1144528/full-scorecard', 'https://www.espncricinfo.com/series/icc-cricket-world-cup-2019-1144415/england-vs-australia-2nd-semi-final-1144529/full-scorecard', 'https://www.espncricinfo.com/series/icc-cricket-world-cup-2019-1144415/england-vs-new-zealand-final-1144530/full-scorecard']\n"
     ]
    }
   ],
   "source": [
    "team_url=[]\n",
    "prefix=\"https://www.espncricinfo.com\"\n",
    "for i in ab:\n",
    "        team_url.append(prefix+i)\n",
    "print(team_url)"
   ]
  },
  {
   "cell_type": "code",
   "execution_count": 13,
   "id": "67086a53",
   "metadata": {},
   "outputs": [],
   "source": [
    "def find_scores(div_tag): \n",
    "    match=[]\n",
    "    team=[]\n",
    "    bat_name=[]\n",
    "    bat_pos=[]\n",
    "    dismissal=[]\n",
    "    runs=[]\n",
    "    balls =[]\n",
    "    fours =[]\n",
    "    sixes=[]\n",
    "    strike_rate=[]\n",
    "\n",
    "    for current_team in [0,1]:\n",
    "        pos=0\n",
    "        for idx, batter in enumerate(div_tag[current_team].findAll(\"tr\")):\n",
    "            if idx!=0:   \n",
    "                details = batter.findAll(\"td\")\n",
    "                if details[0].text =='':\n",
    "                    continue\n",
    "                elif details[0].text == 'Extras':\n",
    "                    break\n",
    "                else:\n",
    "                    pos=pos+1\n",
    "                    team.append(div_tag[current_team].div.div.span.span.text)\n",
    "                    bat_pos.append(pos)\n",
    "                    bat_name.append(details[0].text)\n",
    "                    dismissal.append(details[1].text)\n",
    "                    runs.append(details[2].text)\n",
    "                    balls.append(details[3].text)\n",
    "                    fours.append(details[5].text)\n",
    "                    sixes.append(details[6].text)\n",
    "                    strike_rate.append(details[7].text)\n",
    "                    \n",
    "    df = pd.DataFrame({\n",
    "        \"Team_Innings\":team,\n",
    "        \"Batting_Pos\":bat_pos,\n",
    "        \"Batsman\":bat_name,\n",
    "        \"Dismissal\":dismissal,\n",
    "        \"Runs\":runs,\n",
    "        \"Balls\":balls,\n",
    "        \"4s\":fours,\n",
    "        \"6s\":sixes,\n",
    "        \"SR\":strike_rate\n",
    "    })\n",
    "    df[\"Match\"] = f\"{df.Team_Innings.unique()[0]} vs {df.Team_Innings.unique()[1]}\"\n",
    "    df = df.loc[:,[\"Match\",\"Team_Innings\",\"Batting_Pos\",\"Batsman\",\"Dismissal\",\"Runs\",\"Balls\",\"4s\",\"6s\",\"SR\"]]\n",
    "    return df"
   ]
  },
  {
   "cell_type": "code",
   "execution_count": 14,
   "id": "355304c9",
   "metadata": {},
   "outputs": [],
   "source": [
    "def find_bowling(url, div_tag):\n",
    "    team1 = div_tag[1].div.div.span.span.text\n",
    "    team2 = div_tag[0].div.div.span.span.text\n",
    "    \n",
    "    stats = pd.read_html(url)\n",
    "    idx_list1=[row[0] for row in enumerate(stats[1].iterrows()) if len(row[1][1][0])>30]\n",
    "    card_1 = stats[1].drop(index=idx_list1)\n",
    "    card_1[\"Bowling_Team\"] = team1\n",
    "    \n",
    "    idx_list2=[row[0] for row in enumerate(stats[3].iterrows()) if len(row[1][1][0])>30]\n",
    "    card_2 = stats[3].drop(index=idx_list2)\n",
    "    card_2[\"Bowling_Team\"] =team2\n",
    "    \n",
    "    df = pd.concat([card_1,card_2],axis=0, ignore_index=True)\n",
    "    df[\"Match\"] = f\"{team2} vs {team1}\"\n",
    "    \n",
    "    return df"
   ]
  },
  {
   "cell_type": "code",
   "execution_count": 15,
   "id": "e20e448a",
   "metadata": {},
   "outputs": [
    {
     "name": "stdout",
     "output_type": "stream",
     "text": [
      "Scrapping Successfull!!! \n",
      " Saved DataFrame!!!\n"
     ]
    }
   ],
   "source": [
    "player_bat_sum = pd.DataFrame()\n",
    "player_bowl_sum = pd.DataFrame()\n",
    "prefix = \"https://stats.espncricinfo.com\"\n",
    "\n",
    "for url in team_url:\n",
    "    try: \n",
    "        score_page = requests.get(url).content\n",
    "        soup2 = bs(score_page, \"html.parser\")\n",
    "\n",
    "        div_tag = soup2.findAll(\"div\",{\"class\":\"ds-w-full ds-bg-fill-content-prime ds-overflow-hidden ds-rounded-xl ds-border ds-border-line ds-mb-4\"})\n",
    "\n",
    "        df = find_scores(div_tag)\n",
    "        player_bat_sum = pd.concat([player_bat_sum,df],axis=0,ignore_index=True)\n",
    "        \n",
    "        bowl_df = find_bowling(url, div_tag)\n",
    "        player_bowl_sum = pd.concat([player_bowl_sum,bowl_df],axis=0,ignore_index=True)\n",
    "        \n",
    "    except Exception as e:\n",
    "        continue\n",
    "print(\"Scrapping Successfull!!! \\n Saved DataFrame!!!\") "
   ]
  },
  {
   "cell_type": "code",
   "execution_count": 16,
   "id": "8c62c75e",
   "metadata": {},
   "outputs": [],
   "source": [
    "player_bat_sum.to_csv(\"odi_bat_summary.csv\",index=None)\n",
    "player_bowl_sum.to_csv(\"odi_bowl_fact_summary.csv\",index=None)"
   ]
  },
  {
   "cell_type": "markdown",
   "id": "27e6b1d2",
   "metadata": {},
   "source": [
    "### Finished scraping Data From web in raw form"
   ]
  }
 ],
 "metadata": {
  "kernelspec": {
   "display_name": "Python 3 (ipykernel)",
   "language": "python",
   "name": "python3"
  },
  "language_info": {
   "codemirror_mode": {
    "name": "ipython",
    "version": 3
   },
   "file_extension": ".py",
   "mimetype": "text/x-python",
   "name": "python",
   "nbconvert_exporter": "python",
   "pygments_lexer": "ipython3",
   "version": "3.10.9"
  }
 },
 "nbformat": 4,
 "nbformat_minor": 5
}
